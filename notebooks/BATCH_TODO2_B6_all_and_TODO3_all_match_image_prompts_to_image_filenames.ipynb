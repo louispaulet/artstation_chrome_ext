{
  "nbformat": 4,
  "nbformat_minor": 0,
  "metadata": {
    "colab": {
      "provenance": [],
      "toc_visible": true
    },
    "kernelspec": {
      "name": "python3",
      "display_name": "Python 3"
    },
    "language_info": {
      "name": "python"
    }
  },
  "cells": [
    {
      "cell_type": "markdown",
      "source": [
        "# create prompt to filename DF"
      ],
      "metadata": {
        "id": "36btvWSbHKUQ"
      }
    },
    {
      "cell_type": "markdown",
      "source": [
        "## load original prompt lists"
      ],
      "metadata": {
        "id": "gQg8DptdHOKG"
      }
    },
    {
      "cell_type": "code",
      "execution_count": null,
      "metadata": {
        "id": "EPHzxWvo7J5O"
      },
      "outputs": [],
      "source": [
        "import pandas as pd\n",
        "import glob\n",
        "\n",
        "\n",
        "\n",
        "def get_prompt_list_for_path(path):\n",
        "  csv_files = glob.glob(path)\n",
        "\n",
        "  dfs = []\n",
        "  for file in csv_files:\n",
        "      df = pd.read_csv(file)\n",
        "      dfs.append(df)\n",
        "\n",
        "  concatenated_df = pd.concat(dfs, ignore_index=True)\n",
        "\n",
        "  return list(concatenated_df.prompt)"
      ]
    },
    {
      "cell_type": "code",
      "source": [
        "path = \"/content/drive/MyDrive/AI/deliberate_model/prompt lists/todo2/b6/*.csv\"\n",
        "prompt_list1 = get_prompt_list_for_path(path)\n",
        "prompt_list1"
      ],
      "metadata": {
        "colab": {
          "base_uri": "https://localhost:8080/"
        },
        "id": "oJIqqvMY7xhI",
        "outputId": "a48bf0cc-2481-42de-934d-5e1a65f249dc"
      },
      "execution_count": null,
      "outputs": [
        {
          "output_type": "execute_result",
          "data": {
            "text/plain": [
              "['impressive oil painting, intimate portrait of an aging philosopher deep in thought, masterful use of light and shadow, Rembrandt van Rijn meets the Dutch Golden Age, emotionally resonant masterpiece',\n",
              " 'awe-inspiring fresco, depiction of the creation of the universe, powerful figures and dynamic compositions, Michelangelo meets the Sistine Chapel, grand ceiling masterpiece',\n",
              " 'powerful oil painting, portrayal of a strong female protagonist from ancient history or mythology, vivid colors and emotional intensity, Artemisia Gentileschi meets Baroque art, inspiring canvas work',\n",
              " 'intriguing oil painting, enigmatic portrait of a noblewoman, subtle smile and innovative techniques, Leonardo da Vinci meets the Italian Renaissance, captivating masterpiece',\n",
              " 'vibrant oil painting, lively interior scene with bold colors and simplified forms, expressive brushwork and joyful atmosphere, Henri Matisse meets Fauvism, enchanting canvas work',\n",
              " 'striking woodblock print, dramatic seascape with crashing waves and majestic Mount Fuji in the background, dynamic composition and bold lines, Katsushika Hokusai meets Ukiyo-e, breathtaking artwork',\n",
              " \"sensual oil painting, close-up of a blooming flower with vibrant colors and organic shapes, merging abstraction with nature, Georgia O'Keeffe meets American Modernism, alluring canvas work\",\n",
              " 'expressive oil painting, starry night sky over a sleepy village, swirling brushstrokes and intense colors, Vincent van Gogh meets Post-Impressionism, mesmerizing masterpiece',\n",
              " 'energetic action painting, large-scale abstract composition created through gestural drips and splatters, raw emotion and spontaneity, Jackson Pollock meets Abstract Expressionism, thought-provoking canvas work',\n",
              " 'immersive installation, mirrored room filled with glowing, polka-dotted orbs, infinity and self-reflection, Yayoi Kusama meets Contemporary Art, captivating experiential artwork',\n",
              " 'still life painting by Caravaggio, featuring a rare depiction of exotic fruits and precious objects, masterfully executed with dramatic chiaroscuro and rich symbolism, evoking a sense of luxury and decadence',\n",
              " \"exquisite still life by Jan van Huysum, portraying a lavish arrangement of flowers in a crystal vase, accompanied by a selection of precious jewelry and golden trinkets, showcasing the artist's unparalleled attention to detail and mastery of color\",\n",
              " \"Willem Kalf masterpiece, presenting a sumptuous array of silver and gold vessels, fine textiles, and delicate glassware, illuminated by a single light source, revealing Kalf's exceptional skill in rendering reflections and textures\",\n",
              " \"rare still life by Vermeer, capturing a meticulously arranged table with a lace tablecloth, a pearl necklace, and a finely detailed musical instrument, demonstrating the artist's mastery of light and composition\",\n",
              " 'stunning work by Francisco de Zurbarán, depicting a dramatically lit table with carefully arranged religious objects, skillfully contrasting the earthly and the divine, inviting contemplation and introspection',\n",
              " \"Rachel Ruysch's extraordinary floral still life, displaying a captivating arrangement of rare and exotic flowers, with intricate details and delicate textures, demonstrating her unparalleled mastery of botanical art\",\n",
              " \"Jean-Baptiste-Siméon Chardin's masterpiece, portraying a beautifully arranged kitchen scene with copper pots, fresh produce, and skillfully rendered glassware, celebrating the simple pleasures of everyday life\",\n",
              " 'magnificent still life by Pieter Claesz, featuring an elaborate vanitas scene with a skull, an extinguished candle, and precious objects, masterfully illustrating the transience of life and the inevitability of death',\n",
              " \"Joséphine Bowes's enchanting still life, presenting a lavish table setting with intricate porcelain, gleaming silverware, and delicate pastries, demonstrating her exceptional skill in capturing the elegance of aristocratic life\",\n",
              " 'exquisite work by Clara Peeters, depicting a stunning array of seafood, fruits, and fine glassware, showcasing her mastery of texture and light, as well as her ability to elevate the ordinary into the realm of the extraordinary']"
            ]
          },
          "metadata": {},
          "execution_count": 2
        }
      ]
    },
    {
      "cell_type": "code",
      "source": [
        "!ls \"/content/drive/MyDrive/AI/deliberate_model/prompt lists/todo2/b6\""
      ],
      "metadata": {
        "colab": {
          "base_uri": "https://localhost:8080/"
        },
        "id": "3YFc8TFA8zcC",
        "outputId": "8f989d19-9847-47a7-c71b-3a90e77e3857"
      },
      "execution_count": null,
      "outputs": [
        {
          "output_type": "stream",
          "name": "stdout",
          "text": [
            "good_taste_prompts.csv\tprecious_still_lifes_prompt.csv\n"
          ]
        }
      ]
    },
    {
      "cell_type": "code",
      "source": [
        "!ls \"/content/drive/MyDrive/AI/deliberate_model/prompt lists/todo3/\""
      ],
      "metadata": {
        "colab": {
          "base_uri": "https://localhost:8080/"
        },
        "id": "tBCl_TmC8bAw",
        "outputId": "ced39067-5676-4054-f871-169829b9b78c"
      },
      "execution_count": null,
      "outputs": [
        {
          "output_type": "stream",
          "name": "stdout",
          "text": [
            "b1.txt\tb2.txt\tb3.txt\tb4.txt\tb5.txt\n"
          ]
        }
      ]
    },
    {
      "cell_type": "code",
      "source": [
        "path = \"/content/drive/MyDrive/AI/deliberate_model/prompt lists/todo3/*.txt\"\n",
        "prompt_list2 = get_prompt_list_for_path(path)"
      ],
      "metadata": {
        "id": "wx8I6HQX7K3l"
      },
      "execution_count": null,
      "outputs": []
    },
    {
      "cell_type": "markdown",
      "source": [
        "this list is not ordered properly, we take directly the correct one"
      ],
      "metadata": {
        "id": "sQK6XcV884jl"
      }
    },
    {
      "cell_type": "code",
      "source": [
        "prompt_list2"
      ],
      "metadata": {
        "colab": {
          "base_uri": "https://localhost:8080/"
        },
        "id": "OeISpoxk7vCb",
        "outputId": "94e64f20-7465-4839-9e16-b3821877a89f"
      },
      "execution_count": null,
      "outputs": [
        {
          "output_type": "execute_result",
          "data": {
            "text/plain": [
              "['Digital painting, a bustling cyberpunk cityscape at night, neon lights reflecting off rain-soaked streets, Blade Runner meets Ghost in the Shell, high-resolution artwork',\n",
              " 'Oil painting, a serene Zen garden in autumn, vibrant fall colors contrasting with the tranquility of the scene, Monet meets Hokusai, calming artwork on canvas',\n",
              " 'Watercolor illustration, a whimsical forest filled with mythical creatures, a magical exploration of folklore and fantasy, Brothers Grimm meets Studio Ghibli, enchanting artwork on paper',\n",
              " 'Acrylic painting, a dynamic dance scene capturing the energy and movement of the dancers, a celebration of rhythm and expression, Degas meets Kandinsky, vibrant artwork on canvas',\n",
              " 'Digital collage, a surreal dreamscape blending elements of nature and technology, exploring the boundaries of reality and imagination, Dali meets H.R. Giger, thought-provoking artwork',\n",
              " 'Oil painting, a tranquil seaside village at sunset, warm hues reflecting off the water, Van Gogh meets Edward Hopper, peaceful artwork on canvas',\n",
              " 'Photorealistic digital painting, a futuristic Martian colony, showcasing human ingenuity and the spirit of exploration, The Martian meets Interstellar, awe-inspiring artwork',\n",
              " 'Charcoal sketch, a powerful portrait of a woman, capturing her strength and resilience, Frida Kahlo meets Lucian Freud, emotive artwork on paper',\n",
              " 'Mixed media artwork, a vibrant city scene incorporating collage and graffiti elements, celebrating urban life and culture, Basquiat meets Banksy, edgy masterpiece',\n",
              " 'Watercolor painting, an idyllic countryside scene in spring, blooming flowers and lush greenery, Monet meets Beatrix Potter, refreshing artwork on paper',\n",
              " 'Digital painting, a dystopian cityscape under a crimson sky, exploring themes of isolation and resilience, Blade Runner meets Mad Max, high-resolution artwork',\n",
              " \"Oil painting, a tranquil lily pond at dawn, capturing the subtle interplay of light and shadow, Monet meets Georgia O'Keeffe, serene artwork on canvas\",\n",
              " 'Acrylic painting, a vibrant carnival scene, filled with energy and movement, capturing the spirit of celebration, Picasso meets Diego Rivera, lively artwork on canvas',\n",
              " 'Watercolor illustration, a whimsical depiction of a fairy tale forest, filled with magical creatures and enchanted flora, Brothers Grimm meets Brian Froud, enchanting artwork on paper',\n",
              " 'Digital collage, a surreal dreamscape blending elements of the cosmos and the ocean, exploring the interconnectedness of all life, Dali meets Hubble Telescope, thought-provoking artwork',\n",
              " 'Oil painting, a bustling café scene at twilight, capturing the warmth and camaraderie of urban life, Van Gogh meets Edward Hopper, evocative artwork on canvas',\n",
              " 'Photorealistic digital painting, a futuristic lunar base, showcasing the potential of space exploration and human ingenuity, 2001: A Space Odyssey meets The Martian, awe-inspiring artwork',\n",
              " 'Charcoal sketch, a poignant portrait of an elderly man, capturing the lines of a life well-lived, Rembrandt meets Lucian Freud, emotive artwork on paper',\n",
              " 'Mixed media artwork, a vibrant street scene incorporating collage and graffiti elements, celebrating the energy and diversity of urban life, Basquiat meets Shepard Fairey, edgy masterpiece',\n",
              " 'Watercolor painting, a serene Japanese garden in autumn, capturing the fleeting beauty of cherry blossoms, Hokusai meets Monet, tranquil artwork on paper',\n",
              " 'Oil painting, a dense European forest at dawn, the sunlight filtering through the trees, capturing the quiet beauty of nature, Ivan Shishkin meets Théodore Rousseau, enchanting artwork on canvas',\n",
              " 'Watercolor painting, a vibrant tropical rainforest, filled with exotic flora and fauna, a celebration of biodiversity, Marianne North meets Isidore van Kinsbergen, detailed artwork on paper',\n",
              " 'Acrylic painting, a serene Japanese forest in autumn, the leaves turning a brilliant red, capturing the fleeting beauty of the seasons, Kaii Higashiyama meets Gyoshū Hayami, tranquil artwork on canvas',\n",
              " 'Charcoal sketch, a towering redwood forest, capturing the grandeur and majesty of these ancient trees, Albert Bierstadt meets Chiura Obata, emotive artwork on paper',\n",
              " 'Oil painting, a lush Scandinavian forest under a midnight sun, a celebration of the unique beauty of the Nordic landscape, Peder Balke meets Harald Sohlberg, mesmerizing artwork on canvas',\n",
              " 'Watercolor painting, a dense mangrove forest in India, capturing the unique ecosystem where land meets sea, Ganesh Pyne meets Nandalal Bose, vibrant artwork on paper',\n",
              " \"Acrylic painting, a vibrant Australian eucalyptus forest, filled with unique flora and fauna, a celebration of the continent's biodiversity, Hans Heysen meets Albert Namatjira, detailed artwork on canvas\",\n",
              " 'Oil painting, a serene bamboo forest in China, capturing the tranquility and elegance of this unique landscape, Qi Baishi meets Wu Guanzhong, peaceful artwork on canvas',\n",
              " 'Charcoal sketch, a towering sequoia forest in North America, capturing the grandeur and majesty of these ancient trees, Thomas Hill meets Charles Dorman Robinson, emotive artwork on paper',\n",
              " 'Watercolor painting, a lush Amazon rainforest, filled with exotic flora and fauna, a celebration of biodiversity, Roberto Burle Marx meets Candido Portinari, vibrant artwork on paper',\n",
              " 'Oil painting, a quaint English cottage surrounded by a lush garden, capturing the charm of rural life, Thomas Kinkade meets Helen Allingham, idyllic artwork on canvas',\n",
              " 'Oil painting, a traditional Japanese house with a beautifully manicured garden, showcasing the elegance of simplicity, Hiroshi Yoshida meets Tsuchida Bakusen, serene artwork on canvas',\n",
              " 'Oil painting, a rustic Italian farmhouse nestled in a vineyard, capturing the warmth of the Mediterranean sun, Giovanni Fattori meets Silvestro Lega, picturesque artwork on canvas',\n",
              " 'Oil painting, a traditional Russian izba in a snowy landscape, capturing the resilience of rural life in harsh climates, Ivan Shishkin meets Sergei Vinogradov, evocative artwork on canvas',\n",
              " 'Oil painting, a classic American ranch house in a sprawling prairie, showcasing the spirit of the frontier, Grant Wood meets Thomas Hart Benton, nostalgic artwork on canvas',\n",
              " 'Oil painting, a traditional Indian haveli with intricate architectural details, set against the backdrop of a bustling market, Raja Ravi Varma meets Amrita Sher-Gil, vibrant artwork on canvas',\n",
              " 'Oil painting, a simple Greek island house with white walls and blue shutters, capturing the charm of the Aegean Sea, Konstantinos Volanakis meets Nikolaos Gyzis, tranquil artwork on canvas',\n",
              " 'Oil painting, a traditional Moroccan riad with a lush courtyard, showcasing the beauty of Islamic architecture, Jacques Majorelle meets Hassan El Glaoui, captivating artwork on canvas',\n",
              " 'Oil painting, a classic French country house nestled in a field of lavender, capturing the charm of Provence, Jean-Baptiste-Camille Corot meets Gustave Courbet, idyllic artwork on canvas',\n",
              " 'Oil painting, a traditional Mexican hacienda with vibrant colors, set against the backdrop of a cactus-filled landscape, Diego Rivera meets Rufino Tamayo, lively artwork on canvas',\n",
              " 'Oil painting, a dramatic depiction of a volcanic eruption, capturing the raw power and beauty of nature, J.M.W. Turner meets Frederic Edwin Church, awe-inspiring artwork on canvas',\n",
              " 'Acrylic painting, a detailed cross-section of a mountain range, showcasing the layers of rock and sediment, Thomas Moran meets Carl Rungius, educational artwork on canvas',\n",
              " \"Oil painting, a serene desert landscape, highlighting the unique formations of sand dunes over time, Georgia O'Keeffe meets Maynard Dixon, tranquil artwork on canvas\",\n",
              " 'Watercolor painting, a detailed study of various types of gemstones and minerals, showcasing their unique colors and structures, James Sowerby meets Mary Anning, scientific artwork on paper',\n",
              " 'Oil painting, a dramatic depiction of a glacier calving into the sea, capturing the beauty and fragility of polar landscapes, Frederic Edwin Church meets Rockwell Kent, poignant artwork on canvas',\n",
              " 'Acrylic painting, a vibrant coral reef, showcasing the diverse geological formations and marine life, Raymond Harris-Ching meets Margaret Mee, vibrant artwork on canvas',\n",
              " 'Oil painting, a detailed depiction of a geode, showcasing the sparkling crystals inside, Egon Schiele meets Gustav Klimt, mesmerizing artwork on canvas',\n",
              " 'Watercolor painting, a tranquil scene of a river cutting through a canyon, highlighting the power of erosion over time, Thomas Moran meets Albert Bierstadt, serene artwork on paper',\n",
              " 'Oil painting, a detailed depiction of a meteorite, showcasing its unique structure and composition, John Mix Stanley meets Charles Willson Peale, educational artwork on canvas',\n",
              " \"Acrylic painting, a vibrant depiction of the Northern Lights, capturing the interaction between the Earth's magnetic field and solar particles, Frederic Edwin Church meets Sydney Laurence, awe-inspiring artwork on canvas\"]"
            ]
          },
          "metadata": {},
          "execution_count": 6
        }
      ]
    },
    {
      "cell_type": "markdown",
      "source": [
        "## get ordered lists from previous section and a previous notebook\n",
        "\n",
        "We need to get the correct prompt order."
      ],
      "metadata": {
        "id": "CoGKTZYf89YG"
      }
    },
    {
      "cell_type": "code",
      "source": [
        "list1 = ['impressive oil painting, intimate portrait of an aging philosopher deep in thought, masterful use of light and shadow, Rembrandt van Rijn meets the Dutch Golden Age, emotionally resonant masterpiece',\n",
        " 'awe-inspiring fresco, depiction of the creation of the universe, powerful figures and dynamic compositions, Michelangelo meets the Sistine Chapel, grand ceiling masterpiece',\n",
        " 'powerful oil painting, portrayal of a strong female protagonist from ancient history or mythology, vivid colors and emotional intensity, Artemisia Gentileschi meets Baroque art, inspiring canvas work',\n",
        " 'intriguing oil painting, enigmatic portrait of a noblewoman, subtle smile and innovative techniques, Leonardo da Vinci meets the Italian Renaissance, captivating masterpiece',\n",
        " 'vibrant oil painting, lively interior scene with bold colors and simplified forms, expressive brushwork and joyful atmosphere, Henri Matisse meets Fauvism, enchanting canvas work',\n",
        " 'striking woodblock print, dramatic seascape with crashing waves and majestic Mount Fuji in the background, dynamic composition and bold lines, Katsushika Hokusai meets Ukiyo-e, breathtaking artwork',\n",
        " \"sensual oil painting, close-up of a blooming flower with vibrant colors and organic shapes, merging abstraction with nature, Georgia O'Keeffe meets American Modernism, alluring canvas work\",\n",
        " 'expressive oil painting, starry night sky over a sleepy village, swirling brushstrokes and intense colors, Vincent van Gogh meets Post-Impressionism, mesmerizing masterpiece',\n",
        " 'energetic action painting, large-scale abstract composition created through gestural drips and splatters, raw emotion and spontaneity, Jackson Pollock meets Abstract Expressionism, thought-provoking canvas work',\n",
        " 'immersive installation, mirrored room filled with glowing, polka-dotted orbs, infinity and self-reflection, Yayoi Kusama meets Contemporary Art, captivating experiential artwork',\n",
        " 'still life painting by Caravaggio, featuring a rare depiction of exotic fruits and precious objects, masterfully executed with dramatic chiaroscuro and rich symbolism, evoking a sense of luxury and decadence',\n",
        " \"exquisite still life by Jan van Huysum, portraying a lavish arrangement of flowers in a crystal vase, accompanied by a selection of precious jewelry and golden trinkets, showcasing the artist's unparalleled attention to detail and mastery of color\",\n",
        " \"Willem Kalf masterpiece, presenting a sumptuous array of silver and gold vessels, fine textiles, and delicate glassware, illuminated by a single light source, revealing Kalf's exceptional skill in rendering reflections and textures\",\n",
        " \"rare still life by Vermeer, capturing a meticulously arranged table with a lace tablecloth, a pearl necklace, and a finely detailed musical instrument, demonstrating the artist's mastery of light and composition\",\n",
        " 'stunning work by Francisco de Zurbarán, depicting a dramatically lit table with carefully arranged religious objects, skillfully contrasting the earthly and the divine, inviting contemplation and introspection',\n",
        " \"Rachel Ruysch's extraordinary floral still life, displaying a captivating arrangement of rare and exotic flowers, with intricate details and delicate textures, demonstrating her unparalleled mastery of botanical art\",\n",
        " \"Jean-Baptiste-Siméon Chardin's masterpiece, portraying a beautifully arranged kitchen scene with copper pots, fresh produce, and skillfully rendered glassware, celebrating the simple pleasures of everyday life\",\n",
        " 'magnificent still life by Pieter Claesz, featuring an elaborate vanitas scene with a skull, an extinguished candle, and precious objects, masterfully illustrating the transience of life and the inevitability of death',\n",
        " \"Joséphine Bowes's enchanting still life, presenting a lavish table setting with intricate porcelain, gleaming silverware, and delicate pastries, demonstrating her exceptional skill in capturing the elegance of aristocratic life\",\n",
        " 'exquisite work by Clara Peeters, depicting a stunning array of seafood, fruits, and fine glassware, showcasing her mastery of texture and light, as well as her ability to elevate the ordinary into the realm of the extraordinary']"
      ],
      "metadata": {
        "id": "HZhC4IfR89Mq"
      },
      "execution_count": null,
      "outputs": []
    },
    {
      "cell_type": "code",
      "source": [
        "list2 = ['Oil painting, a dense European forest at dawn, the sunlight filtering through the trees, capturing the quiet beauty of nature, Ivan Shishkin meets Théodore Rousseau, enchanting artwork on canvas',\n",
        " 'Watercolor painting, a vibrant tropical rainforest, filled with exotic flora and fauna, a celebration of biodiversity, Marianne North meets Isidore van Kinsbergen, detailed artwork on paper',\n",
        " 'Acrylic painting, a serene Japanese forest in autumn, the leaves turning a brilliant red, capturing the fleeting beauty of the seasons, Kaii Higashiyama meets Gyoshū Hayami, tranquil artwork on canvas',\n",
        " 'Charcoal sketch, a towering redwood forest, capturing the grandeur and majesty of these ancient trees, Albert Bierstadt meets Chiura Obata, emotive artwork on paper',\n",
        " 'Oil painting, a lush Scandinavian forest under a midnight sun, a celebration of the unique beauty of the Nordic landscape, Peder Balke meets Harald Sohlberg, mesmerizing artwork on canvas',\n",
        " 'Watercolor painting, a dense mangrove forest in India, capturing the unique ecosystem where land meets sea, Ganesh Pyne meets Nandalal Bose, vibrant artwork on paper',\n",
        " \"Acrylic painting, a vibrant Australian eucalyptus forest, filled with unique flora and fauna, a celebration of the continent's biodiversity, Hans Heysen meets Albert Namatjira, detailed artwork on canvas\",\n",
        " 'Oil painting, a serene bamboo forest in China, capturing the tranquility and elegance of this unique landscape, Qi Baishi meets Wu Guanzhong, peaceful artwork on canvas',\n",
        " 'Charcoal sketch, a towering sequoia forest in North America, capturing the grandeur and majesty of these ancient trees, Thomas Hill meets Charles Dorman Robinson, emotive artwork on paper',\n",
        " 'Watercolor painting, a lush Amazon rainforest, filled with exotic flora and fauna, a celebration of biodiversity, Roberto Burle Marx meets Candido Portinari, vibrant artwork on paper',\n",
        " 'Digital painting, a bustling cyberpunk cityscape at night, neon lights reflecting off rain-soaked streets, Blade Runner meets Ghost in the Shell, high-resolution artwork',\n",
        " 'Oil painting, a serene Zen garden in autumn, vibrant fall colors contrasting with the tranquility of the scene, Monet meets Hokusai, calming artwork on canvas',\n",
        " 'Watercolor illustration, a whimsical forest filled with mythical creatures, a magical exploration of folklore and fantasy, Brothers Grimm meets Studio Ghibli, enchanting artwork on paper',\n",
        " 'Acrylic painting, a dynamic dance scene capturing the energy and movement of the dancers, a celebration of rhythm and expression, Degas meets Kandinsky, vibrant artwork on canvas',\n",
        " 'Digital collage, a surreal dreamscape blending elements of nature and technology, exploring the boundaries of reality and imagination, Dali meets H.R. Giger, thought-provoking artwork',\n",
        " 'Oil painting, a tranquil seaside village at sunset, warm hues reflecting off the water, Van Gogh meets Edward Hopper, peaceful artwork on canvas',\n",
        " 'Photorealistic digital painting, a futuristic Martian colony, showcasing human ingenuity and the spirit of exploration, The Martian meets Interstellar, awe-inspiring artwork',\n",
        " 'Charcoal sketch, a powerful portrait of a woman, capturing her strength and resilience, Frida Kahlo meets Lucian Freud, emotive artwork on paper',\n",
        " 'Mixed media artwork, a vibrant city scene incorporating collage and graffiti elements, celebrating urban life and culture, Basquiat meets Banksy, edgy masterpiece',\n",
        " 'Watercolor painting, an idyllic countryside scene in spring, blooming flowers and lush greenery, Monet meets Beatrix Potter, refreshing artwork on paper',\n",
        " 'Digital painting, a dystopian cityscape under a crimson sky, exploring themes of isolation and resilience, Blade Runner meets Mad Max, high-resolution artwork',\n",
        " \"Oil painting, a tranquil lily pond at dawn, capturing the subtle interplay of light and shadow, Monet meets Georgia O'Keeffe, serene artwork on canvas\",\n",
        " 'Acrylic painting, a vibrant carnival scene, filled with energy and movement, capturing the spirit of celebration, Picasso meets Diego Rivera, lively artwork on canvas',\n",
        " 'Watercolor illustration, a whimsical depiction of a fairy tale forest, filled with magical creatures and enchanted flora, Brothers Grimm meets Brian Froud, enchanting artwork on paper',\n",
        " 'Digital collage, a surreal dreamscape blending elements of the cosmos and the ocean, exploring the interconnectedness of all life, Dali meets Hubble Telescope, thought-provoking artwork',\n",
        " 'Oil painting, a bustling café scene at twilight, capturing the warmth and camaraderie of urban life, Van Gogh meets Edward Hopper, evocative artwork on canvas',\n",
        " 'Photorealistic digital painting, a futuristic lunar base, showcasing the potential of space exploration and human ingenuity, 2001: A Space Odyssey meets The Martian, awe-inspiring artwork',\n",
        " 'Charcoal sketch, a poignant portrait of an elderly man, capturing the lines of a life well-lived, Rembrandt meets Lucian Freud, emotive artwork on paper',\n",
        " 'Mixed media artwork, a vibrant street scene incorporating collage and graffiti elements, celebrating the energy and diversity of urban life, Basquiat meets Shepard Fairey, edgy masterpiece',\n",
        " 'Watercolor painting, a serene Japanese garden in autumn, capturing the fleeting beauty of cherry blossoms, Hokusai meets Monet, tranquil artwork on paper',\n",
        " 'Oil painting, a quaint English cottage surrounded by a lush garden, capturing the charm of rural life, Thomas Kinkade meets Helen Allingham, idyllic artwork on canvas',\n",
        " 'Oil painting, a traditional Japanese house with a beautifully manicured garden, showcasing the elegance of simplicity, Hiroshi Yoshida meets Tsuchida Bakusen, serene artwork on canvas',\n",
        " 'Oil painting, a rustic Italian farmhouse nestled in a vineyard, capturing the warmth of the Mediterranean sun, Giovanni Fattori meets Silvestro Lega, picturesque artwork on canvas',\n",
        " 'Oil painting, a traditional Russian izba in a snowy landscape, capturing the resilience of rural life in harsh climates, Ivan Shishkin meets Sergei Vinogradov, evocative artwork on canvas',\n",
        " 'Oil painting, a classic American ranch house in a sprawling prairie, showcasing the spirit of the frontier, Grant Wood meets Thomas Hart Benton, nostalgic artwork on canvas',\n",
        " 'Oil painting, a traditional Indian haveli with intricate architectural details, set against the backdrop of a bustling market, Raja Ravi Varma meets Amrita Sher-Gil, vibrant artwork on canvas',\n",
        " 'Oil painting, a simple Greek island house with white walls and blue shutters, capturing the charm of the Aegean Sea, Konstantinos Volanakis meets Nikolaos Gyzis, tranquil artwork on canvas',\n",
        " 'Oil painting, a traditional Moroccan riad with a lush courtyard, showcasing the beauty of Islamic architecture, Jacques Majorelle meets Hassan El Glaoui, captivating artwork on canvas',\n",
        " 'Oil painting, a classic French country house nestled in a field of lavender, capturing the charm of Provence, Jean-Baptiste-Camille Corot meets Gustave Courbet, idyllic artwork on canvas',\n",
        " 'Oil painting, a traditional Mexican hacienda with vibrant colors, set against the backdrop of a cactus-filled landscape, Diego Rivera meets Rufino Tamayo, lively artwork on canvas',\n",
        " 'Oil painting, a dramatic depiction of a volcanic eruption, capturing the raw power and beauty of nature, J.M.W. Turner meets Frederic Edwin Church, awe-inspiring artwork on canvas',\n",
        " 'Acrylic painting, a detailed cross-section of a mountain range, showcasing the layers of rock and sediment, Thomas Moran meets Carl Rungius, educational artwork on canvas',\n",
        " \"Oil painting, a serene desert landscape, highlighting the unique formations of sand dunes over time, Georgia O'Keeffe meets Maynard Dixon, tranquil artwork on canvas\",\n",
        " 'Watercolor painting, a detailed study of various types of gemstones and minerals, showcasing their unique colors and structures, James Sowerby meets Mary Anning, scientific artwork on paper',\n",
        " 'Oil painting, a dramatic depiction of a glacier calving into the sea, capturing the beauty and fragility of polar landscapes, Frederic Edwin Church meets Rockwell Kent, poignant artwork on canvas',\n",
        " 'Acrylic painting, a vibrant coral reef, showcasing the diverse geological formations and marine life, Raymond Harris-Ching meets Margaret Mee, vibrant artwork on canvas',\n",
        " 'Oil painting, a detailed depiction of a geode, showcasing the sparkling crystals inside, Egon Schiele meets Gustav Klimt, mesmerizing artwork on canvas',\n",
        " 'Watercolor painting, a tranquil scene of a river cutting through a canyon, highlighting the power of erosion over time, Thomas Moran meets Albert Bierstadt, serene artwork on paper',\n",
        " 'Oil painting, a detailed depiction of a meteorite, showcasing its unique structure and composition, John Mix Stanley meets Charles Willson Peale, educational artwork on canvas',\n",
        " \"Acrylic painting, a vibrant depiction of the Northern Lights, capturing the interaction between the Earth's magnetic field and solar particles, Frederic Edwin Church meets Sydney Laurence, awe-inspiring artwork on canvas\"]"
      ],
      "metadata": {
        "id": "lFeuUo2s9ALX"
      },
      "execution_count": null,
      "outputs": []
    },
    {
      "cell_type": "code",
      "source": [
        "complete_ordered_prompt_list = list1 + list2"
      ],
      "metadata": {
        "id": "GmNzDQul-WK4"
      },
      "execution_count": null,
      "outputs": []
    },
    {
      "cell_type": "code",
      "source": [
        "path = \"/content/drive/MyDrive/AI/deliberate_model/images/*.png\"\n",
        "image_list = glob.glob(path)"
      ],
      "metadata": {
        "id": "TzRQ9kSj9MgT"
      },
      "execution_count": null,
      "outputs": []
    },
    {
      "cell_type": "code",
      "source": [
        "implicated_filenames = image_list[44:]"
      ],
      "metadata": {
        "id": "QwcqhSuR9k7o"
      },
      "execution_count": null,
      "outputs": []
    },
    {
      "cell_type": "code",
      "source": [
        "import math\n",
        "\n",
        "pre_df_list = []\n",
        "for i, filename in enumerate(implicated_filenames):\n",
        "  # there are 10 images for a single prompt\n",
        "  pre_df_list.append([complete_ordered_prompt_list[math.floor(i/10)], filename])\n",
        "\n",
        "\n",
        "prompt_to_filename_df = pd.DataFrame(pre_df_list, columns=['prompt', 'filename'])\n",
        "prompt_to_filename_df['filename'] = prompt_to_filename_df['filename'].str.replace('/content/drive/MyDrive/AI/deliberate_model/images/', '')\n",
        "prompt_to_filename_df"
      ],
      "metadata": {
        "id": "6-JJr6cx9l5G"
      },
      "execution_count": null,
      "outputs": []
    },
    {
      "cell_type": "markdown",
      "source": [
        "## save prompt to filename DF in case of changes"
      ],
      "metadata": {
        "id": "49Tec36jHDk2"
      }
    },
    {
      "cell_type": "code",
      "source": [
        "prompt_to_filename_df.to_csv('/content/drive/MyDrive/AI/deliberate_model/prompt_to_filename_df.csv')"
      ],
      "metadata": {
        "id": "xSuyVzkvG-LU"
      },
      "execution_count": null,
      "outputs": []
    },
    {
      "cell_type": "markdown",
      "source": [
        "# Load prompt to filename DF and define `get_prompt_for_filename(filename)`"
      ],
      "metadata": {
        "id": "tctiPaO0Hb61"
      }
    },
    {
      "cell_type": "code",
      "source": [
        "prompt_to_filename_df = pd.read_csv('/content/drive/MyDrive/AI/deliberate_model/prompt_to_filename_df.csv', index_col=0)"
      ],
      "metadata": {
        "id": "4kWMTz0TH6Jm"
      },
      "execution_count": null,
      "outputs": []
    },
    {
      "cell_type": "code",
      "source": [
        "def get_prompt_for_filename(filename):\n",
        "  # windows does not select extension by default\n",
        "  return list(prompt_to_filename_df[prompt_to_filename_df['filename'] == filename]['prompt'])[0]"
      ],
      "metadata": {
        "id": "4NPJsYqW_n4Z"
      },
      "execution_count": null,
      "outputs": []
    },
    {
      "cell_type": "markdown",
      "source": [
        "## example usage"
      ],
      "metadata": {
        "id": "00LlOdoxHjKP"
      }
    },
    {
      "cell_type": "code",
      "source": [
        "get_prompt_for_filename(\"1685670432.836854_42_watercolor-painting-a-vibrant-tropical-rainforest-filled-with-exotic-flora-and-fauna-a-celebration-o_5\")"
      ],
      "metadata": {
        "colab": {
          "base_uri": "https://localhost:8080/",
          "height": 35
        },
        "id": "3jzJDsOIF1fc",
        "outputId": "045650f2-06e6-4b65-c517-4ace898020dc"
      },
      "execution_count": null,
      "outputs": [
        {
          "output_type": "execute_result",
          "data": {
            "text/plain": [
              "'Watercolor painting, a vibrant tropical rainforest, filled with exotic flora and fauna, a celebration of biodiversity, Marianne North meets Isidore van Kinsbergen, detailed artwork on paper'"
            ],
            "application/vnd.google.colaboratory.intrinsic+json": {
              "type": "string"
            }
          },
          "metadata": {},
          "execution_count": 26
        }
      ]
    },
    {
      "cell_type": "markdown",
      "source": [
        "# Inference section"
      ],
      "metadata": {
        "id": "hTBju31HHlBS"
      }
    },
    {
      "cell_type": "code",
      "source": [
        "get_prompt_for_filename(\"1685676347.7193944_42_digital-collage-a-surreal-dreamscape-blending-elements-of-nature-and-technology-exploring-the-bounda_0\")"
      ],
      "metadata": {
        "colab": {
          "base_uri": "https://localhost:8080/",
          "height": 35
        },
        "id": "IORjRQD1GQr6",
        "outputId": "903b8015-980c-4105-af05-29f119231e1c"
      },
      "execution_count": null,
      "outputs": [
        {
          "output_type": "execute_result",
          "data": {
            "text/plain": [
              "'Digital collage, a surreal dreamscape blending elements of nature and technology, exploring the boundaries of reality and imagination, Dali meets H.R. Giger, thought-provoking artwork'"
            ],
            "application/vnd.google.colaboratory.intrinsic+json": {
              "type": "string"
            }
          },
          "metadata": {},
          "execution_count": 27
        }
      ]
    },
    {
      "cell_type": "markdown",
      "source": [
        "# Conversion to JSON"
      ],
      "metadata": {
        "id": "wabwiVcqwkw6"
      }
    },
    {
      "cell_type": "code",
      "source": [
        "prompt_to_filename_df['filename'] = prompt_to_filename_df['filename'].str.replace('.png', '')"
      ],
      "metadata": {
        "colab": {
          "base_uri": "https://localhost:8080/"
        },
        "id": "ViqtrwYazkTY",
        "outputId": "d55b7417-358c-4d15-96ad-9fe11372cbc3"
      },
      "execution_count": null,
      "outputs": [
        {
          "output_type": "stream",
          "name": "stderr",
          "text": [
            "<ipython-input-28-89d27ae9dfeb>:1: FutureWarning: The default value of regex will change from True to False in a future version.\n",
            "  prompt_to_filename_df['filename'] = prompt_to_filename_df['filename'].str.replace('.png', '')\n"
          ]
        }
      ]
    },
    {
      "cell_type": "code",
      "source": [
        "filename_to_prompt_json = prompt_to_filename_df[['filename', 'prompt']].set_index('filename').to_json()\n"
      ],
      "metadata": {
        "id": "I5p_cjSIwt1Y"
      },
      "execution_count": null,
      "outputs": []
    },
    {
      "cell_type": "code",
      "source": [
        "file_path = \"/content/drive/MyDrive/AI/deliberate_model/filename_to_prompt.json\"\n",
        "\n",
        "with open(file_path, 'w') as file:\n",
        "    file.write(filename_to_prompt_json)"
      ],
      "metadata": {
        "id": "_2sG5GbZxGrN"
      },
      "execution_count": null,
      "outputs": []
    },
    {
      "cell_type": "code",
      "source": [
        "get_prompt_for_filename(\"1685658247.166078_42_impressive-oil-painting-intimate-portrait-of-an-aging-philosopher-deep-in-thought-masterful-use-of-l_0\")"
      ],
      "metadata": {
        "id": "x0xylzSJ0awW",
        "outputId": "3f6e073e-f453-495c-b346-4aad6cda00a7",
        "colab": {
          "base_uri": "https://localhost:8080/",
          "height": 53
        }
      },
      "execution_count": null,
      "outputs": [
        {
          "output_type": "execute_result",
          "data": {
            "text/plain": [
              "'impressive oil painting, intimate portrait of an aging philosopher deep in thought, masterful use of light and shadow, Rembrandt van Rijn meets the Dutch Golden Age, emotionally resonant masterpiece'"
            ],
            "application/vnd.google.colaboratory.intrinsic+json": {
              "type": "string"
            }
          },
          "metadata": {},
          "execution_count": 32
        }
      ]
    },
    {
      "cell_type": "markdown",
      "source": [
        "## we notice an error in upscaled naming\n",
        "\n",
        "After upscaling the images, they are numbered again (in the event that the user might want to perform multiple upscalings of a single image).  \n",
        "\n",
        "Therefore, all upscaled images have an additional \"-0000\" (only one image upscale per image) that needs to be removed. We perform this additional transformation directly in the JS Chrome extension."
      ],
      "metadata": {
        "id": "zZnH4-AnDSTW"
      }
    },
    {
      "cell_type": "code",
      "source": [
        "get_prompt_for_filename(\"1685658247.166078_42_impressive-oil-painting-intimate-portrait-of-an-aging-philosopher-deep-in-thought-masterful-use-of-l_0-0000\")"
      ],
      "metadata": {
        "colab": {
          "base_uri": "https://localhost:8080/",
          "height": 252
        },
        "id": "-Kx-L5K5xyFB",
        "outputId": "4bfad1d8-017d-44cd-fee5-dedb98c916d5"
      },
      "execution_count": null,
      "outputs": [
        {
          "output_type": "error",
          "ename": "IndexError",
          "evalue": "ignored",
          "traceback": [
            "\u001b[0;31m---------------------------------------------------------------------------\u001b[0m",
            "\u001b[0;31mIndexError\u001b[0m                                Traceback (most recent call last)",
            "\u001b[0;32m<ipython-input-31-8be1ade7a294>\u001b[0m in \u001b[0;36m<cell line: 1>\u001b[0;34m()\u001b[0m\n\u001b[0;32m----> 1\u001b[0;31m \u001b[0mget_prompt_for_filename\u001b[0m\u001b[0;34m(\u001b[0m\u001b[0;34m\"1685658247.166078_42_impressive-oil-painting-intimate-portrait-of-an-aging-philosopher-deep-in-thought-masterful-use-of-l_0-0000\"\u001b[0m\u001b[0;34m)\u001b[0m\u001b[0;34m\u001b[0m\u001b[0;34m\u001b[0m\u001b[0m\n\u001b[0m",
            "\u001b[0;32m<ipython-input-25-0394a41d5473>\u001b[0m in \u001b[0;36mget_prompt_for_filename\u001b[0;34m(filename)\u001b[0m\n\u001b[1;32m      1\u001b[0m \u001b[0;32mdef\u001b[0m \u001b[0mget_prompt_for_filename\u001b[0m\u001b[0;34m(\u001b[0m\u001b[0mfilename\u001b[0m\u001b[0;34m)\u001b[0m\u001b[0;34m:\u001b[0m\u001b[0;34m\u001b[0m\u001b[0;34m\u001b[0m\u001b[0m\n\u001b[1;32m      2\u001b[0m   \u001b[0;31m# windows does not select extension by default\u001b[0m\u001b[0;34m\u001b[0m\u001b[0;34m\u001b[0m\u001b[0m\n\u001b[0;32m----> 3\u001b[0;31m   \u001b[0;32mreturn\u001b[0m \u001b[0mlist\u001b[0m\u001b[0;34m(\u001b[0m\u001b[0mprompt_to_filename_df\u001b[0m\u001b[0;34m[\u001b[0m\u001b[0mprompt_to_filename_df\u001b[0m\u001b[0;34m[\u001b[0m\u001b[0;34m'filename'\u001b[0m\u001b[0;34m]\u001b[0m \u001b[0;34m==\u001b[0m \u001b[0mfilename\u001b[0m\u001b[0;34m]\u001b[0m\u001b[0;34m[\u001b[0m\u001b[0;34m'prompt'\u001b[0m\u001b[0;34m]\u001b[0m\u001b[0;34m)\u001b[0m\u001b[0;34m[\u001b[0m\u001b[0;36m0\u001b[0m\u001b[0;34m]\u001b[0m\u001b[0;34m\u001b[0m\u001b[0;34m\u001b[0m\u001b[0m\n\u001b[0m",
            "\u001b[0;31mIndexError\u001b[0m: list index out of range"
          ]
        }
      ]
    },
    {
      "cell_type": "code",
      "source": [],
      "metadata": {
        "id": "tEFaAFKK0dTt"
      },
      "execution_count": null,
      "outputs": []
    }
  ]
}